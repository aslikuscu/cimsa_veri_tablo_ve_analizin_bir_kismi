{
 "cells": [
  {
   "cell_type": "code",
   "execution_count": 1,
   "id": "8e1c074e-b4dd-4472-bafc-4ac3329ab307",
   "metadata": {
    "tags": []
   },
   "outputs": [],
   "source": [
    "import pandas as pd\n"
   ]
  },
  {
   "cell_type": "code",
   "execution_count": 22,
   "id": "ceefc4f4-14c9-4c2e-b051-4333697c4af6",
   "metadata": {
    "tags": []
   },
   "outputs": [],
   "source": [
    "dosya1 = pd.read_excel(r\"C:\\Users\\asli_\\PYTHON_PROJECTS\\CIMSA_PROJE\\2018.xls\")\n",
    "dosya2 = pd.read_excel(r\"C:\\Users\\asli_\\PYTHON_PROJECTS\\CIMSA_PROJE\\2019.xls\")\n",
    "dosya3 = pd.read_excel(r\"C:\\Users\\asli_\\PYTHON_PROJECTS\\CIMSA_PROJE\\2020.xls\")\n",
    "dosya4 = pd.read_excel(r\"C:\\Users\\asli_\\PYTHON_PROJECTS\\CIMSA_PROJE\\2021.xls\")\n",
    "dosya5 = pd.read_excel(r\"C:\\Users\\asli_\\PYTHON_PROJECTS\\CIMSA_PROJE\\2022.xls\")"
   ]
  },
  {
   "cell_type": "code",
   "execution_count": 23,
   "id": "c429cbc5-94db-4ad6-9bba-8e8873002bf8",
   "metadata": {
    "tags": []
   },
   "outputs": [],
   "source": [
    "birlesik_tablo = pd.concat([dosya1, dosya2, dosya3, dosya4, dosya5])"
   ]
  },
  {
   "cell_type": "code",
   "execution_count": 25,
   "id": "0f1c4bdf-a361-4846-bd17-1aed94a06a85",
   "metadata": {
    "tags": []
   },
   "outputs": [],
   "source": [
    "birlesik_tablo.to_excel(\"birlesik_tablo.xlsx\", index=False)"
   ]
  },
  {
   "cell_type": "code",
   "execution_count": 26,
   "id": "83168ab7-115f-453a-8487-b5558cf8e690",
   "metadata": {
    "tags": []
   },
   "outputs": [
    {
     "name": "stdout",
     "output_type": "stream",
     "text": [
      "Dosyalar başarıyla birleştirildi ve 'birlesik_tablo.xlsx' olarak kaydedildi.\n"
     ]
    }
   ],
   "source": [
    "print(\"Dosyalar başarıyla birleştirildi ve 'birlesik_tablo.xlsx' olarak kaydedildi.\")\n"
   ]
  },
  {
   "cell_type": "code",
   "execution_count": null,
   "id": "450902fa-89eb-4410-b37b-7fa2bad5eb0a",
   "metadata": {},
   "outputs": [],
   "source": []
  }
 ],
 "metadata": {
  "kernelspec": {
   "display_name": "Python 3 (ipykernel)",
   "language": "python",
   "name": "python3"
  },
  "language_info": {
   "codemirror_mode": {
    "name": "ipython",
    "version": 3
   },
   "file_extension": ".py",
   "mimetype": "text/x-python",
   "name": "python",
   "nbconvert_exporter": "python",
   "pygments_lexer": "ipython3",
   "version": "3.11.5"
  }
 },
 "nbformat": 4,
 "nbformat_minor": 5
}
