{
 "cells": [
  {
   "cell_type": "code",
   "execution_count": 1,
   "id": "acc88d78-26f8-47e1-b99e-9a6f5d8828f5",
   "metadata": {
    "tags": []
   },
   "outputs": [],
   "source": [
    "import pandas as pd"
   ]
  },
  {
   "cell_type": "code",
   "execution_count": 3,
   "id": "8f101d88-6695-429e-8678-b61deebb27a9",
   "metadata": {
    "tags": []
   },
   "outputs": [
    {
     "name": "stdout",
     "output_type": "stream",
     "text": [
      "Dosya Excel formatında.\n",
      "  Unnamed: 0   YIL ÜLKELER     TOPLAM  Denizyolu  Demiryolu  Karayolu\n",
      "0    çimento  2018  A.B.D.  1832456.0  1832456.0        NaN       NaN\n",
      "1    çimento  2018  İSRAİL  1229838.0  1229838.0        NaN       NaN\n",
      "2    çimento  2018  SURİYE   777465.0        NaN        NaN  777465.0\n",
      "3    çimento  2018   HAİTİ   384549.0   384549.0        NaN       NaN\n",
      "4    çimento  2018    GANA   354634.0   354634.0        NaN       NaN\n"
     ]
    }
   ],
   "source": [
    "try:\n",
    "    df = pd.read_excel(\"yeni_tablo.xlsx\")\n",
    "    print(\"Dosya Excel formatında.\")\n",
    "    # Dosyanın içeriğini önizle\n",
    "    print(df.head())\n",
    "except pd.errors.ParserError:\n",
    "    print(\"Dosya Excel formatında değil.\")\n",
    "except FileNotFoundError:\n",
    "    print(\"Dosya bulunamadı.\")"
   ]
  },
  {
   "cell_type": "code",
   "execution_count": 5,
   "id": "d3d6d5bd-38c3-4aaf-9db8-3b878d0058b3",
   "metadata": {
    "tags": []
   },
   "outputs": [],
   "source": [
    "data = pd.read_excel(r\"C:\\Users\\asli_\\PYTHON_PROJECTS\\CIMSA_PROJE\\yeni_tablo.xlsx\", header=0)"
   ]
  },
  {
   "cell_type": "code",
   "execution_count": 6,
   "id": "c58ba02d-0485-4f1b-a56b-c26612cbf123",
   "metadata": {
    "tags": []
   },
   "outputs": [
    {
     "data": {
      "text/html": [
       "<div>\n",
       "<style scoped>\n",
       "    .dataframe tbody tr th:only-of-type {\n",
       "        vertical-align: middle;\n",
       "    }\n",
       "\n",
       "    .dataframe tbody tr th {\n",
       "        vertical-align: top;\n",
       "    }\n",
       "\n",
       "    .dataframe thead th {\n",
       "        text-align: right;\n",
       "    }\n",
       "</style>\n",
       "<table border=\"1\" class=\"dataframe\">\n",
       "  <thead>\n",
       "    <tr style=\"text-align: right;\">\n",
       "      <th></th>\n",
       "      <th>Unnamed: 0</th>\n",
       "      <th>YIL</th>\n",
       "      <th>ÜLKELER</th>\n",
       "      <th>TOPLAM</th>\n",
       "      <th>Denizyolu</th>\n",
       "      <th>Demiryolu</th>\n",
       "      <th>Karayolu</th>\n",
       "    </tr>\n",
       "  </thead>\n",
       "  <tbody>\n",
       "    <tr>\n",
       "      <th>0</th>\n",
       "      <td>çimento</td>\n",
       "      <td>2018</td>\n",
       "      <td>A.B.D.</td>\n",
       "      <td>1832456.0</td>\n",
       "      <td>1832456.0</td>\n",
       "      <td>NaN</td>\n",
       "      <td>NaN</td>\n",
       "    </tr>\n",
       "    <tr>\n",
       "      <th>1</th>\n",
       "      <td>çimento</td>\n",
       "      <td>2018</td>\n",
       "      <td>İSRAİL</td>\n",
       "      <td>1229838.0</td>\n",
       "      <td>1229838.0</td>\n",
       "      <td>NaN</td>\n",
       "      <td>NaN</td>\n",
       "    </tr>\n",
       "    <tr>\n",
       "      <th>2</th>\n",
       "      <td>çimento</td>\n",
       "      <td>2018</td>\n",
       "      <td>SURİYE</td>\n",
       "      <td>777465.0</td>\n",
       "      <td>NaN</td>\n",
       "      <td>NaN</td>\n",
       "      <td>777465.0</td>\n",
       "    </tr>\n",
       "    <tr>\n",
       "      <th>3</th>\n",
       "      <td>çimento</td>\n",
       "      <td>2018</td>\n",
       "      <td>HAİTİ</td>\n",
       "      <td>384549.0</td>\n",
       "      <td>384549.0</td>\n",
       "      <td>NaN</td>\n",
       "      <td>NaN</td>\n",
       "    </tr>\n",
       "    <tr>\n",
       "      <th>4</th>\n",
       "      <td>çimento</td>\n",
       "      <td>2018</td>\n",
       "      <td>GANA</td>\n",
       "      <td>354634.0</td>\n",
       "      <td>354634.0</td>\n",
       "      <td>NaN</td>\n",
       "      <td>NaN</td>\n",
       "    </tr>\n",
       "  </tbody>\n",
       "</table>\n",
       "</div>"
      ],
      "text/plain": [
       "  Unnamed: 0   YIL ÜLKELER     TOPLAM  Denizyolu  Demiryolu  Karayolu\n",
       "0    çimento  2018  A.B.D.  1832456.0  1832456.0        NaN       NaN\n",
       "1    çimento  2018  İSRAİL  1229838.0  1229838.0        NaN       NaN\n",
       "2    çimento  2018  SURİYE   777465.0        NaN        NaN  777465.0\n",
       "3    çimento  2018   HAİTİ   384549.0   384549.0        NaN       NaN\n",
       "4    çimento  2018    GANA   354634.0   354634.0        NaN       NaN"
      ]
     },
     "execution_count": 6,
     "metadata": {},
     "output_type": "execute_result"
    }
   ],
   "source": [
    "df.head()"
   ]
  },
  {
   "cell_type": "code",
   "execution_count": 7,
   "id": "799f1192-6c85-40d6-b8cc-a23c03919c52",
   "metadata": {
    "tags": []
   },
   "outputs": [
    {
     "name": "stdout",
     "output_type": "stream",
     "text": [
      "Unnamed: 0      0\n",
      "YIL             0\n",
      "ÜLKELER         0\n",
      "TOPLAM          0\n",
      "Denizyolu      34\n",
      "Demiryolu     640\n",
      "Karayolu      599\n",
      "dtype: int64\n"
     ]
    }
   ],
   "source": [
    "eksik_kontrol = df.isnull().sum()\n",
    "print(eksik_kontrol)"
   ]
  },
  {
   "cell_type": "code",
   "execution_count": 8,
   "id": "b610aa03-a5f0-4cf5-96b3-d9b567003aff",
   "metadata": {
    "tags": []
   },
   "outputs": [],
   "source": [
    "#veri seti yedeklenerek kopya olusturuldu\n",
    "df_yedek = df.copy()"
   ]
  },
  {
   "cell_type": "code",
   "execution_count": 9,
   "id": "08beb510-7c46-44e6-8b6c-67e0a58a3cec",
   "metadata": {
    "tags": []
   },
   "outputs": [],
   "source": [
    "#xlsx halinden cvs'ye cevirme\n",
    "df.to_csv('ihracat.csv', index=False)"
   ]
  },
  {
   "cell_type": "code",
   "execution_count": 10,
   "id": "3b7defae-fa54-4f9b-ac81-ef36d29254ec",
   "metadata": {
    "tags": []
   },
   "outputs": [
    {
     "name": "stdout",
     "output_type": "stream",
     "text": [
      "Unnamed: 0      0\n",
      "YIL             0\n",
      "ÜLKELER         0\n",
      "TOPLAM          0\n",
      "Denizyolu      34\n",
      "Demiryolu     640\n",
      "Karayolu      599\n",
      "dtype: int64\n"
     ]
    }
   ],
   "source": [
    "# Verinin temizlenip temizlenmedigini anlamak icin Eksik değerleri kontrol etme\n",
    "print(df.isnull().sum())"
   ]
  },
  {
   "cell_type": "code",
   "execution_count": 11,
   "id": "46205db0-3843-4d21-8f6c-70ecf394309f",
   "metadata": {
    "tags": []
   },
   "outputs": [
    {
     "name": "stdout",
     "output_type": "stream",
     "text": [
      "               YIL        TOPLAM     Denizyolu      Demiryolu      Karayolu\n",
      "count   651.000000  6.510000e+02  6.170000e+02      11.000000  5.200000e+01\n",
      "mean   2019.980031  1.879114e+05  1.837806e+05   90204.545455  1.512047e+05\n",
      "std       1.383830  6.413406e+05  6.498549e+05  135012.548992  3.544995e+05\n",
      "min    2018.000000  1.700000e+01  1.700000e+01      48.000000  3.000000e+00\n",
      "25%    2019.000000  1.718500e+03  1.794000e+03    3497.500000  3.150000e+02\n",
      "50%    2020.000000  2.166400e+04  2.031300e+04   18411.000000  1.739200e+04\n",
      "75%    2021.000000  1.310280e+05  1.236350e+05   98769.000000  9.243500e+04\n",
      "max    2022.000000  9.655155e+06  9.655155e+06  370038.000000  1.385720e+06\n"
     ]
    }
   ],
   "source": [
    "# Sütunların istatistiksel özetini al\n",
    "#Sütunların Dağılımını İnceleme\n",
    "print(df.describe())"
   ]
  },
  {
   "cell_type": "code",
   "execution_count": 12,
   "id": "edcf9824-3437-46bf-b45c-2ce9698e4b8e",
   "metadata": {
    "tags": []
   },
   "outputs": [
    {
     "name": "stdout",
     "output_type": "stream",
     "text": [
      "Empty DataFrame\n",
      "Columns: [Unnamed: 0, YIL, ÜLKELER, TOPLAM, Denizyolu, Demiryolu, Karayolu]\n",
      "Index: []\n"
     ]
    }
   ],
   "source": [
    "# Tekrarlayan satırları kontrol etme\n",
    "tekrarlayanlar = df[df.duplicated()]\n",
    "print(tekrarlayanlar)"
   ]
  },
  {
   "cell_type": "code",
   "execution_count": null,
   "id": "f4bd0285-112f-47d7-bd7e-360439a97cc1",
   "metadata": {},
   "outputs": [],
   "source": []
  }
 ],
 "metadata": {
  "kernelspec": {
   "display_name": "Python 3 (ipykernel)",
   "language": "python",
   "name": "python3"
  },
  "language_info": {
   "codemirror_mode": {
    "name": "ipython",
    "version": 3
   },
   "file_extension": ".py",
   "mimetype": "text/x-python",
   "name": "python",
   "nbconvert_exporter": "python",
   "pygments_lexer": "ipython3",
   "version": "3.11.5"
  }
 },
 "nbformat": 4,
 "nbformat_minor": 5
}
